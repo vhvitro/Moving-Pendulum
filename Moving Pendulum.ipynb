{
 "cells": [
  {
   "cell_type": "markdown",
   "id": "382cdc45",
   "metadata": {},
   "source": [
    "# Let's solve the moving pendulum problem:\n",
    "\n",
    "#### This problem is from the book 'Classical Mechanics' by David Morin (problem 6.3 of the section 'Lagrangian Method')."
   ]
  },
  {
   "attachments": {
    "image.png": {
     "image/png": "[encoded data removed]"
    }
   },
   "cell_type": "markdown",
   "id": "5c5177ba",
   "metadata": {},
   "source": [
    "![image.png](attachment:image.png)"
   ]
  },
  {
   "cell_type": "markdown",
   "id": "4d40260b",
   "metadata": {},
   "source": [
    "$\\newcommand{\\lgr}{\\mathcal{L}}$\n",
    "### Looking to solve for $\\theta$, the angle between the massless stick with lenght $l$, that holds out mass $m$, and the vertical, we first write our lagrangian, with coordinates $X, Y$ arbitrarily defined by:\n",
    "\n",
    "$(X, Y) = (x + l\\sin(\\theta), -l\\cos(\\theta))$ where $x = A\\cos(\\omega t)$, as defined in the exercise.\n",
    "\n",
    "**obs: note these coordinates are simply the x and y axis we are used to.**\n",
    "\n",
    "### We therefore have:\n",
    "\n",
    "$\\dot{X} = \\dot{x}+l\\dot{\\theta}\\cos(\\theta)$\n",
    "\n",
    "$\\dot{Y} = l\\dot{\\theta}\\sin(\\theta)$\n",
    "\n",
    "--> $V^2 = \\dot{X}^2+\\dot{Y}^2$ --> $V^2 = \\dot{x}^2 + l^2\\dot{\\theta}^2\\cos^2\\theta+2\\dot{x}\\dot{\\theta}l\\cos\\theta+l^2\\dot{\\theta}^2\\sin^2\\theta$\n",
    "\n",
    "### Which leads to an Kinetic Energy given by:\n",
    "$T = \\frac{1}{2}m(\\dot{x}^2+l^2\\dot{\\theta}^2 + 2\\dot{x}\\dot{\\theta}l\\cos\\theta)$\n",
    "\n",
    "### And the potential is simply:\n",
    "$U = -mgl\\cos\\theta$\n",
    "\n",
    "### And finally, the Lagrangian is:\n",
    "$\\lgr = \\frac{1}{2}m(\\dot{x}^2+l^2\\dot{\\theta}^2 + 2\\dot{x}\\dot{\\theta}l\\cos\\theta) + mgl\\cos\\theta$\n",
    "\n",
    "### Solving by Euler-Lagrange's method:\n",
    "$\\frac{\\partial \\lgr}{\\partial \\theta} = \\frac{d}{dt}(\\frac{\\partial \\lgr}{\\partial \\dot{\\theta}})$\n",
    "\n",
    "$-mgl\\sin\\theta -m\\dot{x}\\dot{\\theta}l\\sin\\theta = \\frac{d}{dt}(ml^2\\dot{\\theta}+m\\dot{x}l\\cos\\theta)$\n",
    "\n",
    "$-mgl\\sin\\theta -m\\dot{x}\\dot{\\theta}l\\sin\\theta = ml^2\\ddot{\\theta} +ml\\ddot{x}\\cos\\theta -ml\\dot{x}\\dot{\\theta}\\sin\\theta$\n",
    "\n",
    "$-g\\sin\\theta = l\\ddot{\\theta} + \\ddot{x}\\cos\\theta$\n",
    "\n",
    "### With $x = A\\cos(\\omega t):$\n",
    "\n",
    "$\\ddot{\\theta}-\\frac{A}{l}\\omega^2\\cos(\\omega t )\\cos\\theta + \\frac{g}{l}\\sin\\theta = 0$\n",
    "\n",
    "### This is our full differential equation for $\\theta$ without applying small angles approximation  \n",
    "\n",
    "### For small angles, which means using $\\cos\\theta \\approx 1, \\sin\\theta \\approx \\theta$:\n",
    "$$\\ddot{\\theta}+\\frac{g}{l}\\theta  - \\frac{A}{l}\\omega^2\\cos(\\omega t) = 0$$\n",
    "### Let $a = \\frac{A}{l}, \\mu = \\sqrt{\\frac{g}{l}}$:\n",
    "$$\\ddot{\\theta} + \\mu^2\\theta -a\\omega^2\\cos(\\omega t)$$\n",
    "\n",
    "### To solve this differential equation, let's use sympy librabry."
   ]
  },
  {
   "cell_type": "code",
   "execution_count": 2,
   "id": "2a1fd3ce",
   "metadata": {
    "scrolled": true
   },
   "outputs": [
    {
     "data": {
      "text/latex": [
       "$\\displaystyle - a w^{2} \\cos{\\left(t w \\right)} + \\mu^{2} \\theta{\\left(t \\right)} + \\frac{d^{2}}{d t^{2}} \\theta{\\left(t \\right)} = 0$"
      ],
      "text/plain": [
       "Eq(-a*w**2*cos(t*w) + mu**2*theta(t) + Derivative(theta(t), (t, 2)), 0)"
      ]
     },
     "metadata": {},
     "output_type": "display_data"
    },
    {
     "data": {
      "text/latex": [
       "$\\displaystyle \\theta{\\left(t \\right)} = C_{1} e^{- i \\mu t} + C_{2} e^{i \\mu t} - \\frac{a w^{2} \\cos{\\left(t w \\right)}}{- \\mu^{2} + w^{2}}$"
      ],
      "text/plain": [
       "Eq(theta(t), C1*exp(-I*mu*t) + C2*exp(I*mu*t) - a*w**2*cos(t*w)/(-mu**2 + w**2))"
      ]
     },
     "metadata": {},
     "output_type": "display_data"
    }
   ],
   "source": [
    "import sympy as sp\n",
    "\n",
    "a = sp.Symbol('a')\n",
    "w0 = sp.Symbol('mu')\n",
    "w = sp.Symbol('w')\n",
    "t = sp.Symbol('t')\n",
    "theta = sp.Function('theta')(t)\n",
    "\n",
    "diffeq = sp.Eq(theta.diff(t,t) + w0**2*theta - a*w**2*sp.cos(w*t),0)\n",
    "display(diffeq)\n",
    "theta_solved = sp.dsolve(diffeq,theta)\n",
    "display(theta_solved)"
   ]
  },
  {
   "cell_type": "markdown",
   "id": "524fcccb",
   "metadata": {},
   "source": [
    "### This code:\n",
    "> defines our constants, the function we're looking for ($\\theta(t)$), and our independent variable ($t$)\n",
    "\n",
    "> defines our differential equation using the method 'sp.Eq' and the solves it algebraically"
   ]
  },
  {
   "cell_type": "markdown",
   "id": "7ce196a0",
   "metadata": {},
   "source": [
    "### Separing the real part and renaming some constants, we then have:\n",
    "$$\\theta(t) = C\\cos(\\mu t + \\phi) + \\dfrac{a\\omega^2\\cos(\\omega t)}{\\mu^2-\\omega^2}$$\n",
    "### Where $C$ and $\\phi$ are constants defined by the initial conditions."
   ]
  },
  {
   "cell_type": "markdown",
   "id": "bee3b87f",
   "metadata": {},
   "source": [
    "## Giving initial conditions\n",
    "### Let's solve again the differential equation with sympy giving now well defined initial conditions:\n",
    "> Lets say the angle at the beginning is 0(the pendulum starts at the vertical):\n",
    "$\\theta(0) = 0$\n",
    "\n",
    "> Lets say the ratio change in the angle at the beginning is also 0:\n",
    "$\\dfrac{d}{dt}\\theta(0) = 0$"
   ]
  },
  {
   "cell_type": "code",
   "execution_count": 3,
   "id": "1d35e0ec",
   "metadata": {},
   "outputs": [
    {
     "data": {
      "text/latex": [
       "$\\displaystyle \\theta{\\left(t \\right)} = - \\frac{a w^{2} \\cos{\\left(t w \\right)}}{- \\mu^{2} + w^{2}} + \\frac{a w^{2} e^{i \\mu t}}{- 2 \\mu^{2} + 2 w^{2}} + \\frac{a w^{2} e^{- i \\mu t}}{- 2 \\mu^{2} + 2 w^{2}}$"
      ],
      "text/plain": [
       "Eq(theta(t), -a*w**2*cos(t*w)/(-mu**2 + w**2) + a*w**2*exp(I*mu*t)/(-2*mu**2 + 2*w**2) + a*w**2*exp(-I*mu*t)/(-2*mu**2 + 2*w**2))"
      ]
     },
     "metadata": {},
     "output_type": "display_data"
    }
   ],
   "source": [
    "theta_i = {theta.subs(t, 0):0,theta.diff().subs(t,0):0} #giving the initial conditions\n",
    "theta_solved_i = sp.dsolve(diffeq, theta, ics=theta_i)\n",
    "display(theta_solved_i)"
   ]
  }
 ],
 "metadata": {
  "kernelspec": {
   "display_name": "Python 3 (ipykernel)",
   "language": "python",
   "name": "python3"
  },
  "language_info": {
   "codemirror_mode": {
    "name": "ipython",
    "version": 3
   },
   "file_extension": ".py",
   "mimetype": "text/x-python",
   "name": "python",
   "nbconvert_exporter": "python",
   "pygments_lexer": "ipython3",
   "version": "3.9.13"
  }
 },
 "nbformat": 4,
 "nbformat_minor": 5
}
